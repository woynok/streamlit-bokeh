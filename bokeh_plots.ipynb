{
 "cells": [
  {
   "cell_type": "code",
   "execution_count": 53,
   "metadata": {},
   "outputs": [
    {
     "data": {
      "text/html": [
       "<div class=\"bk-root\">\n",
       "        <a href=\"https://bokeh.org\" target=\"_blank\" class=\"bk-logo bk-logo-small bk-logo-notebook\"></a>\n",
       "        <span id=\"5391\">Loading BokehJS ...</span>\n",
       "    </div>\n"
      ]
     },
     "metadata": {},
     "output_type": "display_data"
    },
    {
     "data": {
      "application/javascript": "(function(root) {\n  function now() {\n    return new Date();\n  }\n\n  const force = true;\n\n  if (typeof root._bokeh_onload_callbacks === \"undefined\" || force === true) {\n    root._bokeh_onload_callbacks = [];\n    root._bokeh_is_loading = undefined;\n  }\n\nconst JS_MIME_TYPE = 'application/javascript';\n  const HTML_MIME_TYPE = 'text/html';\n  const EXEC_MIME_TYPE = 'application/vnd.bokehjs_exec.v0+json';\n  const CLASS_NAME = 'output_bokeh rendered_html';\n\n  /**\n   * Render data to the DOM node\n   */\n  function render(props, node) {\n    const script = document.createElement(\"script\");\n    node.appendChild(script);\n  }\n\n  /**\n   * Handle when an output is cleared or removed\n   */\n  function handleClearOutput(event, handle) {\n    const cell = handle.cell;\n\n    const id = cell.output_area._bokeh_element_id;\n    const server_id = cell.output_area._bokeh_server_id;\n    // Clean up Bokeh references\n    if (id != null && id in Bokeh.index) {\n      Bokeh.index[id].model.document.clear();\n      delete Bokeh.index[id];\n    }\n\n    if (server_id !== undefined) {\n      // Clean up Bokeh references\n      const cmd_clean = \"from bokeh.io.state import curstate; print(curstate().uuid_to_server['\" + server_id + \"'].get_sessions()[0].document.roots[0]._id)\";\n      cell.notebook.kernel.execute(cmd_clean, {\n        iopub: {\n          output: function(msg) {\n            const id = msg.content.text.trim();\n            if (id in Bokeh.index) {\n              Bokeh.index[id].model.document.clear();\n              delete Bokeh.index[id];\n            }\n          }\n        }\n      });\n      // Destroy server and session\n      const cmd_destroy = \"import bokeh.io.notebook as ion; ion.destroy_server('\" + server_id + \"')\";\n      cell.notebook.kernel.execute(cmd_destroy);\n    }\n  }\n\n  /**\n   * Handle when a new output is added\n   */\n  function handleAddOutput(event, handle) {\n    const output_area = handle.output_area;\n    const output = handle.output;\n\n    // limit handleAddOutput to display_data with EXEC_MIME_TYPE content only\n    if ((output.output_type != \"display_data\") || (!Object.prototype.hasOwnProperty.call(output.data, EXEC_MIME_TYPE))) {\n      return\n    }\n\n    const toinsert = output_area.element.find(\".\" + CLASS_NAME.split(' ')[0]);\n\n    if (output.metadata[EXEC_MIME_TYPE][\"id\"] !== undefined) {\n      toinsert[toinsert.length - 1].firstChild.textContent = output.data[JS_MIME_TYPE];\n      // store reference to embed id on output_area\n      output_area._bokeh_element_id = output.metadata[EXEC_MIME_TYPE][\"id\"];\n    }\n    if (output.metadata[EXEC_MIME_TYPE][\"server_id\"] !== undefined) {\n      const bk_div = document.createElement(\"div\");\n      bk_div.innerHTML = output.data[HTML_MIME_TYPE];\n      const script_attrs = bk_div.children[0].attributes;\n      for (let i = 0; i < script_attrs.length; i++) {\n        toinsert[toinsert.length - 1].firstChild.setAttribute(script_attrs[i].name, script_attrs[i].value);\n        toinsert[toinsert.length - 1].firstChild.textContent = bk_div.children[0].textContent\n      }\n      // store reference to server id on output_area\n      output_area._bokeh_server_id = output.metadata[EXEC_MIME_TYPE][\"server_id\"];\n    }\n  }\n\n  function register_renderer(events, OutputArea) {\n\n    function append_mime(data, metadata, element) {\n      // create a DOM node to render to\n      const toinsert = this.create_output_subarea(\n        metadata,\n        CLASS_NAME,\n        EXEC_MIME_TYPE\n      );\n      this.keyboard_manager.register_events(toinsert);\n      // Render to node\n      const props = {data: data, metadata: metadata[EXEC_MIME_TYPE]};\n      render(props, toinsert[toinsert.length - 1]);\n      element.append(toinsert);\n      return toinsert\n    }\n\n    /* Handle when an output is cleared or removed */\n    events.on('clear_output.CodeCell', handleClearOutput);\n    events.on('delete.Cell', handleClearOutput);\n\n    /* Handle when a new output is added */\n    events.on('output_added.OutputArea', handleAddOutput);\n\n    /**\n     * Register the mime type and append_mime function with output_area\n     */\n    OutputArea.prototype.register_mime_type(EXEC_MIME_TYPE, append_mime, {\n      /* Is output safe? */\n      safe: true,\n      /* Index of renderer in `output_area.display_order` */\n      index: 0\n    });\n  }\n\n  // register the mime type if in Jupyter Notebook environment and previously unregistered\n  if (root.Jupyter !== undefined) {\n    const events = require('base/js/events');\n    const OutputArea = require('notebook/js/outputarea').OutputArea;\n\n    if (OutputArea.prototype.mime_types().indexOf(EXEC_MIME_TYPE) == -1) {\n      register_renderer(events, OutputArea);\n    }\n  }\n  if (typeof (root._bokeh_timeout) === \"undefined\" || force === true) {\n    root._bokeh_timeout = Date.now() + 5000;\n    root._bokeh_failed_load = false;\n  }\n\n  const NB_LOAD_WARNING = {'data': {'text/html':\n     \"<div style='background-color: #fdd'>\\n\"+\n     \"<p>\\n\"+\n     \"BokehJS does not appear to have successfully loaded. If loading BokehJS from CDN, this \\n\"+\n     \"may be due to a slow or bad network connection. Possible fixes:\\n\"+\n     \"</p>\\n\"+\n     \"<ul>\\n\"+\n     \"<li>re-rerun `output_notebook()` to attempt to load from CDN again, or</li>\\n\"+\n     \"<li>use INLINE resources instead, as so:</li>\\n\"+\n     \"</ul>\\n\"+\n     \"<code>\\n\"+\n     \"from bokeh.resources import INLINE\\n\"+\n     \"output_notebook(resources=INLINE)\\n\"+\n     \"</code>\\n\"+\n     \"</div>\"}};\n\n  function display_loaded() {\n    const el = document.getElementById(\"5391\");\n    if (el != null) {\n      el.textContent = \"BokehJS is loading...\";\n    }\n    if (root.Bokeh !== undefined) {\n      if (el != null) {\n        el.textContent = \"BokehJS \" + root.Bokeh.version + \" successfully loaded.\";\n      }\n    } else if (Date.now() < root._bokeh_timeout) {\n      setTimeout(display_loaded, 100)\n    }\n  }\n\n  function run_callbacks() {\n    try {\n      root._bokeh_onload_callbacks.forEach(function(callback) {\n        if (callback != null)\n          callback();\n      });\n    } finally {\n      delete root._bokeh_onload_callbacks\n    }\n    console.debug(\"Bokeh: all callbacks have finished\");\n  }\n\n  function load_libs(css_urls, js_urls, callback) {\n    if (css_urls == null) css_urls = [];\n    if (js_urls == null) js_urls = [];\n\n    root._bokeh_onload_callbacks.push(callback);\n    if (root._bokeh_is_loading > 0) {\n      console.debug(\"Bokeh: BokehJS is being loaded, scheduling callback at\", now());\n      return null;\n    }\n    if (js_urls == null || js_urls.length === 0) {\n      run_callbacks();\n      return null;\n    }\n    console.debug(\"Bokeh: BokehJS not loaded, scheduling load and callback at\", now());\n    root._bokeh_is_loading = css_urls.length + js_urls.length;\n\n    function on_load() {\n      root._bokeh_is_loading--;\n      if (root._bokeh_is_loading === 0) {\n        console.debug(\"Bokeh: all BokehJS libraries/stylesheets loaded\");\n        run_callbacks()\n      }\n    }\n\n    function on_error(url) {\n      console.error(\"failed to load \" + url);\n    }\n\n    for (let i = 0; i < css_urls.length; i++) {\n      const url = css_urls[i];\n      const element = document.createElement(\"link\");\n      element.onload = on_load;\n      element.onerror = on_error.bind(null, url);\n      element.rel = \"stylesheet\";\n      element.type = \"text/css\";\n      element.href = url;\n      console.debug(\"Bokeh: injecting link tag for BokehJS stylesheet: \", url);\n      document.body.appendChild(element);\n    }\n\n    for (let i = 0; i < js_urls.length; i++) {\n      const url = js_urls[i];\n      const element = document.createElement('script');\n      element.onload = on_load;\n      element.onerror = on_error.bind(null, url);\n      element.async = false;\n      element.src = url;\n      console.debug(\"Bokeh: injecting script tag for BokehJS library: \", url);\n      document.head.appendChild(element);\n    }\n  };\n\n  function inject_raw_css(css) {\n    const element = document.createElement(\"style\");\n    element.appendChild(document.createTextNode(css));\n    document.body.appendChild(element);\n  }\n\n  const js_urls = [\"https://cdn.bokeh.org/bokeh/release/bokeh-2.4.3.min.js\", \"https://cdn.bokeh.org/bokeh/release/bokeh-gl-2.4.3.min.js\", \"https://cdn.bokeh.org/bokeh/release/bokeh-widgets-2.4.3.min.js\", \"https://cdn.bokeh.org/bokeh/release/bokeh-tables-2.4.3.min.js\", \"https://cdn.bokeh.org/bokeh/release/bokeh-mathjax-2.4.3.min.js\"];\n  const css_urls = [];\n\n  const inline_js = [    function(Bokeh) {\n      Bokeh.set_log_level(\"info\");\n    },\nfunction(Bokeh) {\n    }\n  ];\n\n  function run_inline_js() {\n    if (root.Bokeh !== undefined || force === true) {\n          for (let i = 0; i < inline_js.length; i++) {\n      inline_js[i].call(root, root.Bokeh);\n    }\nif (force === true) {\n        display_loaded();\n      }} else if (Date.now() < root._bokeh_timeout) {\n      setTimeout(run_inline_js, 100);\n    } else if (!root._bokeh_failed_load) {\n      console.log(\"Bokeh: BokehJS failed to load within specified timeout.\");\n      root._bokeh_failed_load = true;\n    } else if (force !== true) {\n      const cell = $(document.getElementById(\"5391\")).parents('.cell').data().cell;\n      cell.output_area.append_execute_result(NB_LOAD_WARNING)\n    }\n  }\n\n  if (root._bokeh_is_loading === 0) {\n    console.debug(\"Bokeh: BokehJS loaded, going straight to plotting\");\n    run_inline_js();\n  } else {\n    load_libs(css_urls, js_urls, function() {\n      console.debug(\"Bokeh: BokehJS plotting callback run at\", now());\n      run_inline_js();\n    });\n  }\n}(window));",
      "application/vnd.bokehjs_load.v0+json": ""
     },
     "metadata": {},
     "output_type": "display_data"
    }
   ],
   "source": [
    "import streamlit as st\n",
    "import pandas as pd\n",
    "from bokeh.plotting import figure,save\n",
    "from bokeh.models import ColumnDataSource, CustomJS, Quad, CDSView, IndexFilter, HoverTool, Range1d, LabelSet, Label, GroupFilter, BooleanFilter\n",
    "from bokeh.models.tools import HoverTool\n",
    "from bokeh.palettes import Category10\n",
    "from bokeh.models.widgets import DataTable, TableColumn\n",
    "from bokeh.layouts import column, row\n",
    "from lib.text_data import TextData, TextDataStore\n",
    "td = TextDataStore.load(filepath=\"data/app_reviews_thums_up.tds.gz\")\n",
    "\n",
    "from bokeh.io import show, output_notebook\n",
    "output_notebook()"
   ]
  },
  {
   "cell_type": "code",
   "execution_count": 15,
   "metadata": {},
   "outputs": [
    {
     "data": {
      "text/plain": [
       "array([ 1.,  2.,  3.,  4.,  5.,  6.,  7.,  8.,  9., 10.])"
      ]
     },
     "execution_count": 15,
     "metadata": {},
     "output_type": "execute_result"
    }
   ],
   "source": [
    "import numpy as np\n",
    "bins = np.linspace(1, 10, 10, )\n",
    "bins"
   ]
  },
  {
   "cell_type": "code",
   "execution_count": 16,
   "metadata": {},
   "outputs": [],
   "source": [
    "d = {column.column_name:column.records for column in td.aux_data.columns}\n",
    "d[\"text\"] = td.docs.texts\n",
    "df = pd.DataFrame(d)\n",
    "df[\"thums_up\"] = df[\"thums_up\"].str.split(\"人\").apply(lambda x: x[0].replace(\",\", \"\")).astype(int).apply(lambda x:np.digitize(x, bins))\n",
    "df[\"text_length\"] = df[\"text\"].str.len()\n",
    "# df"
   ]
  },
  {
   "cell_type": "code",
   "execution_count": 17,
   "metadata": {},
   "outputs": [],
   "source": [
    "from typing import Literal\n",
    "\n",
    "xaxis_name1 = \"thums_up\"\n",
    "xagg_axis_name1 = f\"{xaxis_name1}_agg_axis\"\n",
    "xagg_axis1 = df[xaxis_name1].to_numpy()\n",
    "xaxis_property1 = None\n",
    "use_binning1 = False\n",
    "# TODO: xaxis_name1 の型によって、binの設定や粒度選択や値の選択を行う\n",
    "# if td.aux_data[xaxis_name1] が 数値なら、\n",
    "# binの範囲や大きさを選択できるようにする。日付なら日付の粒度を選択できるようにする。\n",
    "# そのほかの場合は、通常のカテゴリーと同じように扱う。\n",
    "\n",
    "caxis_name1 = \"star\"\n",
    "# TODO: caxis_nameは、group_nameのみを選択できるようにする。\n",
    "\n",
    "yaxis_name1 = \"name\"\n",
    "metric_name1:Literal[\"count\", \"nunique\", \"mean\", \"median\", \"sum\"] = \"count\"\n",
    "\n",
    "# yaxis_name1 = \"text_length\"\n",
    "# metric_name1:Literal[\"count\", \"nunique\", \"mean\", \"median\", \"sum\"] = \"mean\"\n",
    "# TODO: yaxisは件数、数値型の列、そのほか任意の型の列を選択できるようにする\n",
    "# 件数の場合は、countとする\n",
    "# 数値型の場合は、mean, median, sum, nunique を選択できるようにする\n",
    "# そのほかの場合は、nuniqueを選択できるようにする\n"
   ]
  },
  {
   "cell_type": "code",
   "execution_count": 18,
   "metadata": {},
   "outputs": [],
   "source": [
    "import numpy as np\n",
    "xaxis_name2 = \"text_length\"\n",
    "xagg_axis_name2 = f\"{xaxis_name2}_agg_axis\"\n",
    "use_binning2 = True\n",
    "xaxis_property2 = {\n",
    "    \"bin_start\": 0,\n",
    "    \"bin_end\": 600,\n",
    "    \"nbins\": 20,\n",
    "    }\n",
    "xbins2 = np.linspace(xaxis_property2[\"bin_start\"], xaxis_property2[\"bin_end\"], xaxis_property2[\"nbins\"], )\n",
    "xaxis_property2[\"bins\"] = xbins2\n",
    "xagg_axis2 = np.digitize(df[xaxis_name2], xbins2)\n",
    "caxis_name2 = \"star\"\n",
    "yaxis_name2 = \"name\"\n",
    "metric_name2:Literal[\"count\", \"nunique\", \"mean\", \"median\", \"sum\"] = \"count\""
   ]
  },
  {
   "cell_type": "code",
   "execution_count": 19,
   "metadata": {},
   "outputs": [],
   "source": [
    "# def get_df_agg(xagg_axis_name, caxis_name, yaxis_name, metric_name, df:pd.DataFrame, use_binning, xagg_axis = None):\n",
    "#     df[xagg_axis_name] = xagg_axis\n",
    "#     if metric_name == \"count\":\n",
    "#         df_agg = df.groupby([xagg_axis_name, caxis_name])[yaxis_name].size().reset_index()\n",
    "#     elif metric_name == \"mean\":\n",
    "#         df_agg = df.groupby([xagg_axis_name, caxis_name])[yaxis_name].mean().reset_index()\n",
    "#     elif metric_name == \"median\":\n",
    "#         df_agg = df.groupby([xagg_axis_name, caxis_name])[yaxis_name].median().reset_index()\n",
    "#     elif metric_name == \"nunique\":\n",
    "#         df_agg = df.groupby([xagg_axis_name, caxis_name])[yaxis_name].nunique().reset_index()\n",
    "#     xaxis_referer = df[xagg_axis_name].to_numpy()\n",
    "#     return df_agg, xaxis_referer\n",
    "#     # TODO: use_binning の場合は、 digitizeした値を xaxis_referer にする。\n",
    "#     # いずれにせよ、axisについての selected indices と 等しい値のxaxis_referer のindexを取得することで、\n",
    "#     # df_agg の選択された値に対応する df の行を取得できる。\n",
    "# df_agg1, xaxis_referer1 = get_df_agg(xagg_axis_name1, caxis_name1, yaxis_name1, metric_name1, df, use_binning1, xagg_axis = xagg_axis1)\n",
    "# df_agg2, xaxis_referer2 = get_df_agg(xagg_axis_name2, caxis_name2, yaxis_name2, metric_name2, df, use_binning2, xagg_axis = xagg_axis2)"
   ]
  },
  {
   "cell_type": "code",
   "execution_count": 36,
   "metadata": {},
   "outputs": [],
   "source": [
    "# df_agg1"
   ]
  },
  {
   "cell_type": "code",
   "execution_count": 44,
   "metadata": {},
   "outputs": [],
   "source": [
    "# df_agg1\n",
    "# # xagg_axis_name1\n",
    "# # caxis_name1\n",
    "# # yaxis_name1"
   ]
  },
  {
   "cell_type": "code",
   "execution_count": 54,
   "metadata": {},
   "outputs": [],
   "source": [
    "from bokeh.plotting import Figure"
   ]
  },
  {
   "cell_type": "code",
   "execution_count": 89,
   "metadata": {},
   "outputs": [],
   "source": [
    "from typing import overload\n",
    "@overload\n",
    "def aggregate(\n",
    "        df:pd.DataFrame,\n",
    "        xaxis_name:str,\n",
    "        yaxis_name:str,\n",
    "        yaxis_aggregate_method:str,\n",
    "        caxis_name:None = None,\n",
    "        )->tuple[pd.Series, pd.Series]:\n",
    "    ...\n",
    "@overload\n",
    "def aggregate(\n",
    "        df:pd.DataFrame,\n",
    "        xaxis_name:str,\n",
    "        yaxis_name:str,\n",
    "        yaxis_aggregate_method:str,\n",
    "        caxis_name:str = None,\n",
    "        )->tuple[pd.Series, pd.Series, pd.Series]:\n",
    "    ...\n",
    "\n",
    "def aggregate(\n",
    "        df:pd.DataFrame,\n",
    "        xagg_axis_name:str,\n",
    "        yaxis_name:str,\n",
    "        yaxis_aggregate_method:str,\n",
    "        caxis_name:str|None = None,\n",
    "        ):\n",
    "    if caxis_name is None:\n",
    "        aggregate_axis = [xagg_axis_name]\n",
    "    else:\n",
    "        aggregate_axis = [xagg_axis_name, caxis_name]\n",
    "    if yaxis_aggregate_method == \"count\":\n",
    "        df[\"__件数__\"] = 1\n",
    "        df_agg = df.groupby(aggregate_axis)[\"__件数__\"].sum().reset_index()\n",
    "        yaxis = df_agg[\"__件数__\"]\n",
    "    elif yaxis_aggregate_method == \"mean\":\n",
    "        df_agg = df.groupby(aggregate_axis)[yaxis_name].mean().reset_index()\n",
    "        yaxis = df_agg[yaxis_name]\n",
    "    elif yaxis_aggregate_method == \"median\":\n",
    "        df_agg = df.groupby(aggregate_axis)[yaxis_name].median().reset_index()\n",
    "        yaxis = df_agg[yaxis_name]\n",
    "    elif yaxis_aggregate_method == \"nunique\":\n",
    "        df_agg = df.groupby(aggregate_axis)[yaxis_name].nunique().reset_index()\n",
    "        yaxis = df_agg[yaxis_name]\n",
    "    if caxis_name is None:\n",
    "        return df_agg[xagg_axis_name], yaxis\n",
    "    else:\n",
    "        return df_agg[xagg_axis_name], yaxis, df_agg[caxis_name]"
   ]
  },
  {
   "cell_type": "code",
   "execution_count": 129,
   "metadata": {},
   "outputs": [],
   "source": [
    "from bokeh.models import BoxSelectTool, ResetTool\n",
    "def plot_vbar(\n",
    "        source:ColumnDataSource,\n",
    "        xagg_axis_name:str,\n",
    "        yaxis_name:str,\n",
    "        axis:Figure,\n",
    "        caxis_name:str = None,\n",
    "        caxis_values:list[str] = None,\n",
    "        ):\n",
    "    if caxis_name is None:\n",
    "        axis.vbar(x=xagg_axis_name, top=yaxis_name, width=0.95, source=source, color=\"grey\", alpha=0.3)\n",
    "    else:\n",
    "        renderers = []\n",
    "        sources = []\n",
    "        for ivalue, caxis_value in enumerate(caxis_values):\n",
    "            view = CDSView(source=source, filters=[GroupFilter(column_name=caxis_name, group=caxis_value)])\n",
    "            renderers.append(axis.vbar(x=xagg_axis_name, top=yaxis_name, width=0.8, view=view, legend_label = caxis_value, source=source, color=Category10[10][ivalue], alpha=0.5))\n",
    "        hover = HoverTool(\n",
    "            tooltips=[(xagg_axis_name, f\"@{xagg_axis_name}\"), (yaxis_name, f\"@{yaxis_name}\")],\n",
    "            )\n",
    "        axis.add_tools(hover)\n",
    "        box_select = BoxSelectTool(renderers=renderers)\n",
    "        reset_tool = ResetTool()\n",
    "        axis.add_tools(box_select, reset_tool)\n",
    "        \n",
    "        axis.legend.click_policy=\"hide\"\n",
    "        axis.legend.location = \"top_left\"\n",
    "    return axis"
   ]
  },
  {
   "cell_type": "code",
   "execution_count": 130,
   "metadata": {},
   "outputs": [],
   "source": [
    "# box_select = BoxSelectTool()\n",
    "# reset_tool = ResetTool()\n",
    "\n",
    "# axis1.add_tools([box_select, reset_tool])"
   ]
  },
  {
   "cell_type": "code",
   "execution_count": 131,
   "metadata": {},
   "outputs": [],
   "source": [
    "# source_whole1.data[xaxis_name1]"
   ]
  },
  {
   "cell_type": "code",
   "execution_count": 144,
   "metadata": {},
   "outputs": [
    {
     "name": "stderr",
     "output_type": "stream",
     "text": [
      "c:\\Users\\moja\\AppData\\Local\\Programs\\Python\\Python310\\lib\\site-packages\\bokeh\\io\\saving.py:142: UserWarning: save() called but no resources were supplied and output_file(...) was never called, defaulting to resources.CDN\n",
      "  warn(\"save() called but no resources were supplied and output_file(...) was never called, defaulting to resources.CDN\")\n",
      "c:\\Users\\moja\\AppData\\Local\\Programs\\Python\\Python310\\lib\\site-packages\\bokeh\\io\\saving.py:154: UserWarning: save() called but no title was supplied and output_file(...) was never called, using default title 'Bokeh Plot'\n",
      "  warn(\"save() called but no title was supplied and output_file(...) was never called, using default title 'Bokeh Plot'\")\n"
     ]
    },
    {
     "data": {
      "text/plain": [
       "'c:\\\\Users\\\\moja\\\\develop\\\\repos\\\\streamlit-bokeh\\\\test.html'"
      ]
     },
     "execution_count": 144,
     "metadata": {},
     "output_type": "execute_result"
    }
   ],
   "source": [
    "axis1 = figure(plot_width=600, plot_height=400, tools = [])\n",
    "axis2 = figure(plot_width=600, plot_height=400, tools = [])\n",
    "table = DataTable(source=ColumnDataSource(df), columns=[TableColumn(field=\"text\", title=\"text\")], width=1200, height=300)\n",
    "plot = column(row(axis1, axis2), table)\n",
    "\n",
    "use_caxis1 = True\n",
    "use_caxis2 = True\n",
    "normalize1 = False\n",
    "normalize2 = False\n",
    "show_whole1 = True\n",
    "show_whole2 = True\n",
    "\n",
    "if show_whole1:\n",
    "    xagg_axis_whole1, yaxis_whole1 = aggregate(df, xaxis_name1, yaxis_name1, metric_name1)\n",
    "    source_whole1 = ColumnDataSource(\n",
    "        data = {\n",
    "            xaxis_name1 : xagg_axis_whole1,\n",
    "            yaxis_name1 : yaxis_whole1,\n",
    "        }\n",
    "    )\n",
    "    plot_vbar(source_whole1, xaxis_name1, yaxis_name1, axis=axis1)\n",
    "if show_whole2:\n",
    "    xagg_axis_whole2, yaxis_whole2 = aggregate(df, xaxis_name2, yaxis_name2, metric_name2)\n",
    "    source_whole2 = ColumnDataSource(\n",
    "        data = {\n",
    "            xaxis_name2 : xagg_axis_whole2,\n",
    "            yaxis_name2 : yaxis_whole2,\n",
    "        }\n",
    "    )\n",
    "    plot_vbar(source_whole2, xaxis_name2, yaxis_name2, axis=axis2)\n",
    "\n",
    "if use_caxis1:\n",
    "    caxis_values1 = sorted(df[caxis_name1].unique().tolist())\n",
    "    xagg_axis1, yaxis1, caxis1 = aggregate(df, xaxis_name1, yaxis_name1, metric_name1, caxis_name1)\n",
    "    source1 = ColumnDataSource(\n",
    "        data = {\n",
    "            xaxis_name1 : xagg_axis1,\n",
    "            yaxis_name1 : yaxis1,\n",
    "            caxis_name1 : caxis1,\n",
    "        }\n",
    "    )\n",
    "    plot_vbar(source1, xaxis_name1, yaxis_name1, axis=axis1, caxis_name=caxis_name1, caxis_values=caxis_values1)\n",
    "if use_caxis2:\n",
    "    caxis_values2 = sorted(df[caxis_name2].unique().tolist())\n",
    "    xagg_axis2, yaxis2, caxis2 = aggregate(df, xaxis_name2, yaxis_name2, metric_name2, caxis_name2)\n",
    "    source2 = ColumnDataSource(\n",
    "        data = {\n",
    "            xaxis_name2 : xagg_axis2,\n",
    "            yaxis_name2 : yaxis2,\n",
    "            caxis_name2 : caxis2,\n",
    "        }\n",
    "    )\n",
    "    plot_vbar(source2, xaxis_name2, yaxis_name2, axis=axis2, caxis_name=caxis_name2, caxis_values=caxis_values2)\n",
    "\n",
    "js = CustomJS(\n",
    "    args = {\n",
    "        \"source1\": source1,\n",
    "        \"xaxis1\": xagg_axis1,\n",
    "        \"caxis1\": caxis1,\n",
    "        },\n",
    "    code = \"\"\"\n",
    "        console.log(source1.data);\n",
    "        console.log(source1.selected.indices);\n",
    "        source1.selected.indices.forEach(function(index){\n",
    "            console.log(caxis1[index], xaxis1[index]);\n",
    "        });\n",
    "        \"\"\"\n",
    ")\n",
    "source1.selected.js_on_change(\"indices\", js)\n",
    "axis1.js_on_event(\"reset\", js)\n",
    "save(plot, \"test.html\")"
   ]
  },
  {
   "cell_type": "code",
   "execution_count": null,
   "metadata": {},
   "outputs": [],
   "source": []
  }
 ],
 "metadata": {
  "kernelspec": {
   "display_name": "Python 3",
   "language": "python",
   "name": "python3"
  },
  "language_info": {
   "codemirror_mode": {
    "name": "ipython",
    "version": 3
   },
   "file_extension": ".py",
   "mimetype": "text/x-python",
   "name": "python",
   "nbconvert_exporter": "python",
   "pygments_lexer": "ipython3",
   "version": "3.10.7"
  }
 },
 "nbformat": 4,
 "nbformat_minor": 2
}
